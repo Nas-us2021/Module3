{
 "cells": [
  {
   "cell_type": "markdown",
   "metadata": {},
   "source": [
    "Exercise 1. Ask for a color and store that answer. \n",
    "If the answer is grey then print out you found Victor's favorite color.\n",
    "Otherwise print out the color is not Victor's favorite color."
   ]
  },
  {
   "cell_type": "code",
   "execution_count": null,
   "metadata": {},
   "outputs": [],
   "source": [
    "color = input (\"Type in a color: \")\n",
    "print (\"User entered the color: \", {color})\n",
    "if color == \"grey\" :\n",
    "    print (color, \" is the favorite color of Victor.\")\n",
    "else:\n",
    "    print (color, \"is not the favorite color of Victor.\")\n"
   ]
  },
  {
   "cell_type": "markdown",
   "metadata": {},
   "source": [
    "Exercise 2. Modify code from above exercise 1 and add in more conditions for other colors such as red, green, blue and then, write statements for them."
   ]
  },
  {
   "cell_type": "code",
   "execution_count": null,
   "metadata": {},
   "outputs": [],
   "source": [
    "color = input (\"Type in a color: \")\n",
    "print (\"User entered the color: \", color)\n",
    "if color == \"grey\" :\n",
    "    print (color, \" is the favorite color of Victor.\")\n",
    "elif color == \"red\" :\n",
    "    print (color, \"is the color of fire engines!\")\n",
    "elif color == \"green\":\n",
    "    print (color, \"is the color of US paper currency.\")\n",
    "elif color == \"blue\" :\n",
    "    print (color, \"is the color of the sky.\")\n",
    "else :\n",
    "    print (color, \" is the color entered.\")"
   ]
  },
  {
   "cell_type": "markdown",
   "metadata": {},
   "source": [
    "Exercise 3. Ask for an exam score and store that number. If the number is greater than 100, then print out 'You cannot have an exam score higher than 100'. If the number doesn't exceeed 100 but is greater than or equal to 75, then print out 'You did great on your exam!'. Otherwise if they scored lower than 75, then print out 'You need to study harder'."
   ]
  },
  {
   "cell_type": "code",
   "execution_count": null,
   "metadata": {},
   "outputs": [],
   "source": [
    "exam_score = int(input (\"Please enter exam score: \"))\n",
    "print (\"You entered a score of: \", exam_score)\n",
    "if exam_score > 100:\n",
    "    print (\"You cannot have an exam score higher than 100.\")\n",
    "elif exam_score >= 75 and exam_score <= 100 :\n",
    "    print (\"You did great on your exam!\")\n",
    "else :\n",
    "    print (\"You need to study harder\")\n"
   ]
  },
  {
   "cell_type": "markdown",
   "metadata": {},
   "source": [
    "Exercise 4. \n",
    "Define two functions: \n",
    "    - a function that takes 3 arguements and returns the sum of three arguements\n",
    "    - a function that takes 2 arguements and returns the result of 1st arguement multiplied by 2nd arguement\n",
    "\n",
    "Then tell the user to choose option 1 to add three numbers or option 2 to multiply two numbers.\n",
    "If the user choose option 1 then call the addition function, otherwise if they choose option 2 then call the mulitplication function.  If the user choose anything other than option 1 or 2, then generate a friendly error messsage"
   ]
  },
  {
   "cell_type": "code",
   "execution_count": null,
   "metadata": {},
   "outputs": [],
   "source": [
    "def add3_func (arg1, arg2, arg3):\n",
    "    sum = arg1 + arg2 + arg3\n",
    "    print (\"Sum is: \", sum)\n",
    "    \n",
    "def mult_func (arg1, arg2):\n",
    "    product = arg1 * arg2\n",
    "    print (\"Product is: \", product)\n",
    "   \n",
    "choice = input (\"Specify 1 to add three numbers or specify 2 to multiply two numbers.\")\n",
    "print (\"Choice is: \", choice)\n",
    "\n",
    "if choice == \"1\" :\n",
    "    print(\"Provide 3 numbers, one at a time.\")\n",
    "    arg1 = int(input(\"Enter number: \"))\n",
    "    arg2 = int(input(\"Enter number: \"))\n",
    "    arg3 = int(input(\"Enter number: \"))\n",
    "add3_func (arg1, arg2, arg3)           \n",
    "print (\"Finished add\")\n",
    "               \n",
    "elif choice == \"2\" :\n",
    "    print(\"Provide 2 numbers, one at a time.\")\n",
    "    arg1 = int(input(\"Enter number: \"))\n",
    "    arg2 = int(input(\"Enter number: \"))\n",
    "    mult_func (arg1, arg2)\n",
    "    print (\"Finished multiply\")\n",
    "        \n",
    "else :\n",
    "    print (\"Incorrect entry. Retry program.\")\n",
    "    print (\"Goodbye!\")\n",
    "\n"
   ]
  },
  {
   "cell_type": "markdown",
   "metadata": {},
   "source": [
    "Exercise 5. \n",
    "Write a function to convert a test score to a grade where  \n",
    " - 90 - 100: A\n",
    " - 80 - 89:  B\n",
    " - 70 - 79:  C\n",
    " - 60 - 69:  D\n",
    " - < 60   :  F\n",
    " \n",
    "If a score is not between 0 and 100 then print out an error message. In the program, ask the user for a score and then call your function. "
   ]
  },
  {
   "cell_type": "code",
   "execution_count": null,
   "metadata": {},
   "outputs": [],
   "source": [
    "def convert_score (test_score, grade):\n",
    "    grade = \"TBD\"\n",
    "    if test_score > 100:\n",
    "        print (\"Error in input.\") \n",
    "        print (\"Test_score and Grade are: \", test_score, grade)\n",
    "        return grade;  \n",
    "    elif test_score < 0 :\n",
    "        print (\"Error in input.\")\n",
    "        print (\"Test_score and Grade are: \", test_score, grade)\n",
    "        return;\n",
    "    elif test_score >= 90 :\n",
    "        grade = \"A\"\n",
    "        print (\"Test_score and Grade are: \", test_score, grade)\n",
    "        return\n",
    "    elif test_score >= 80 :\n",
    "        grade = \"B\"\n",
    "        print (\"Test_score and Grade are: \", test_score, grade)\n",
    "    elif test_score >= 70 :\n",
    "        grade = \"C\"\n",
    "        print (\"Test_score and Grade are: \", test_score, grade)\n",
    "        return;\n",
    "    elif test_score >= 60 :\n",
    "        grade = \"D\"\n",
    "        print (\"Test_score and Grade are: \", test_score, grade)\n",
    "        return;\n",
    "    elif test_score < 60 :\n",
    "        grade = \"F\"\n",
    "        print (\"Test_score and Grade are: \", test_score, grade)\n",
    "        return;\n",
    "\n",
    "grade = \"UNKN\"\n",
    "test_score = int(input (\"Enter test score: \"))\n",
    "convert_score (test_score, grade)\n",
    "print (\"Keep studying!\")\n"
   ]
  },
  {
   "cell_type": "markdown",
   "metadata": {},
   "source": [
    "Exercise 6. Write a program to compute discounts for customers.  \n",
    "- For retail customers, \n",
    "    - if invoice total is greater than \\$100 then discount rate is 10\\%, otherwise no discount \n",
    "\n",
    "- For wholesale customers,\n",
    "    - if invoice total is greater than \\$500 then discount rate is 30\\%, otherwise discount rate is 20\\%\n",
    "    \n",
    "Get the type of customer and the invoice total from the user."
   ]
  },
  {
   "cell_type": "code",
   "execution_count": null,
   "metadata": {},
   "outputs": [],
   "source": [
    "# cust_type = str(\"undefined\")\n",
    "# invoice = 0\n",
    "cust_type = input (\"Please enter customer type; retail or wholesale: \")\n",
    "invoice =  int(input(\"Please enter invoice amount: \"))\n",
    "print (\"Input summary:\")\n",
    "print (\"   Customer type is: \", cust_type)\n",
    "print (\"   Invoice amount is: \", invoice)\n",
    "if (cust_type[0] == \"r\") or (cust_type[0] == \"R\") :\n",
    "    if (invoice <= 100) :\n",
    "        print (\"No discount; please pay: \", invoice)\n",
    "    else :\n",
    "        invoice = invoice - (invoice * .1)\n",
    "        print (\"Discount is 10\\%; please pay: \", invoice)\n",
    "elif (cust_type[0] == \"w\") or (cust_type[0] ==\"W\") :\n",
    "    if invoice > 500 :\n",
    "        invoice = invoice - (invoice *.3)\n",
    "        print (\"Discount is 30\\%; please pay: \", invoice)\n",
    "    else :\n",
    "        invoice = invoice -(invoice *.2)\n",
    "        print (\"Discount is 20\\%; please pay: \", invoice)\n",
    "else : \n",
    "    print (\"Customer type invalid input, please restart program\")\n",
    "print (\"Please pay amount due or call Customer Service if questions.\")\n",
    "\n",
    "\n",
    "         "
   ]
  },
  {
   "cell_type": "markdown",
   "metadata": {},
   "source": [
    "Exercise 7: Write a function that accepts two parameters (a and b) and returns a result of a/b.  In this function, try to catch any exception error.  Then, write a program to get two numbers from a user, call your function using these two numbers, and print out the result in a friendly format.  All input and print statements must be done in the main program. Repeat the process until user wants to quit the program. "
   ]
  },
  {
   "cell_type": "code",
   "execution_count": null,
   "metadata": {},
   "outputs": [],
   "source": [
    "import sys\n",
    "\n",
    "def div_two (dividend, divisor):\n",
    "    try:\n",
    "        quotient = dividend / divisor\n",
    "    except:\n",
    "        ZeroDivisionError\n",
    "        print (\"Error. Divisor cannot be zero.\")\n",
    "        print(f\"\\n***** ERROR: \", sys.exc_info()[0], \"occurred. *****\\n\")\n",
    "        quotient = 0\n",
    "    return quotient\n",
    "\n",
    "while True:  #WHAT is 'True'?\n",
    "    dividend = int(input(\"Enter a dividend: \"))\n",
    "    divisor = int(input(\"Enter a divisor: \"))\n",
    "    quotient = div_two (dividend, divisor)\n",
    "    print(f\"\\n\\n{dividend}/{divisor}={quotient}\\n\")\n",
    "    loop = input(\"Would you like to try again? (y/n) \")\n",
    "    if loop.lower() != \"y\" :\n",
    "        break\n",
    "\n"
   ]
  },
  {
   "cell_type": "markdown",
   "metadata": {},
   "source": [
    "Exercise 8: Write a function to generate a multiplication table. Then write a program to ask a user if user wants to generate a  mutiplication table for a random number or provide a number. The program should continue to run until a user wants to quit."
   ]
  },
  {
   "cell_type": "code",
   "execution_count": null,
   "metadata": {
    "scrolled": true
   },
   "outputs": [],
   "source": [
    "import random\n",
    "def mult_table (base_multiplier, my_mult) :\n",
    "    product = my_mult * base_multiplier\n",
    "    print (\"*******************  \", my_mult, \" * \", base_multiplier, \" = \", product)\n",
    "    return;\n",
    "print (\"Create an infinite multiplication table.\")\n",
    "my_mult = 0\n",
    "increment = 1\n",
    "base_num = input (\"Use a  random number 'r' or provide your own number: \")\n",
    "if base_num.lower() == ('r') :\n",
    "    base_multiplier = random.randint (1, 9)\n",
    "else :\n",
    "    base_multiplier = int(base_num)\n",
    "while True:  #While WHAT is True?\n",
    "    my_mult = my_mult + increment\n",
    "    mult_table (base_multiplier, my_mult)\n",
    "    answer = input(\"Another round? (y/n): \")  #Why can't I use CTRL + C?\n",
    "    if answer == \"n\" :\n",
    "        print (\"********************  Goodbye!\")\n",
    "        break\n",
    "    else :\n",
    "        continue\n",
    "   \n",
    "\n",
    "\n",
    "\n",
    "       "
   ]
  },
  {
   "cell_type": "code",
   "execution_count": null,
   "metadata": {},
   "outputs": [],
   "source": []
  },
  {
   "cell_type": "markdown",
   "metadata": {},
   "source": [
    "Exercise 9: Write a function to draw a right-triangle using a number as a character.Then, write a program to generate a random number between 1 and 9, call your function with that random number.  The output should look something like this:\n",
    "\n",
    "        base: 5\n",
    "        5\n",
    "        55\n",
    "        555\n",
    "        5555\n",
    "        55555\n",
    "\n",
    "\n",
    "        base: 8\n",
    "        8\n",
    "        88\n",
    "        888\n",
    "        8888\n",
    "        88888\n",
    "        888888\n",
    "        8888888\n",
    "        88888888"
   ]
  },
  {
   "cell_type": "code",
   "execution_count": null,
   "metadata": {},
   "outputs": [],
   "source": [
    "import random\n",
    "\n",
    "def prt_rt_tri (base, line_count) :\n",
    "    print (\"Base and Line_count are: \", base, line_count)\n",
    "    count = 1\n",
    "    base_string = str(base)\n",
    "    while line_count > 0 :\n",
    "        print (f\"{base_string*count}\")\n",
    "        line_count = line_count - 1\n",
    "        count += 1\n",
    "    else :\n",
    "        print (\"All done!)\")\n",
    "        return;\n",
    "\n",
    "print (\"DRAW A RIGHT TRIANGLE\")\n",
    "line_count = int(input(\"How many lines do you want? \"))\n",
    "print (\"Number of lines to print is: \", line_count)\n",
    "base = random.randint(1,9)\n",
    "print (\"Random number provided for base is: \", base)\n",
    "\n",
    "prt_rt_tri (base, line_count)\n",
    "print (\"Goodbye!\")\n",
    "\n",
    "\n"
   ]
  },
  {
   "cell_type": "markdown",
   "metadata": {},
   "source": [
    "Exercise 10: Modify function from exercise 9 to show output like this:\n",
    "\n",
    "        base: 5\n",
    "            5\n",
    "           55\n",
    "          555\n",
    "         5555 \n",
    "        55555\n",
    "        \n",
    "        base: 8\n",
    "               8\n",
    "              88\n",
    "             888\n",
    "            8888\n",
    "           88888\n",
    "          888888\n",
    "         8888888\n",
    "        88888888 "
   ]
  },
  {
   "cell_type": "code",
   "execution_count": null,
   "metadata": {},
   "outputs": [],
   "source": [
    "import random\n",
    "\n",
    "def prt_lft_tri (base, line_count) :\n",
    "    print (\"Base and Line_count are: \", base, line_count)\n",
    "    count = 1\n",
    "    blank_space = ' '\n",
    "    max_blanks=9\n",
    "    base_string = str(base)\n",
    "    while line_count > 0 :\n",
    "        print (f\"{blank_space*max_blanks}{base_string*count}\")\n",
    "        line_count = line_count - 1\n",
    "        max_blanks -= 1\n",
    "        count += 1\n",
    "    else :\n",
    "        print (\"All done!\")\n",
    "        return;\n",
    "\n",
    "print (\"DRAW A LEFT FACING TRIANGLE\")\n",
    "line_count = int(input(\"How many lines do you want? \"))\n",
    "print (\"Number of lines to print is: \", line_count)\n",
    "base = random.randint(1,9)\n",
    "print (\"Random number provided for base is: \", base)\n",
    "\n",
    "prt_lft_tri (base, line_count)\n",
    "print (\"Goodbye!\")"
   ]
  }
 ],
 "metadata": {
  "kernelspec": {
   "display_name": "Python 3",
   "language": "python",
   "name": "python3"
  },
  "language_info": {
   "codemirror_mode": {
    "name": "ipython",
    "version": 3
   },
   "file_extension": ".py",
   "mimetype": "text/x-python",
   "name": "python",
   "nbconvert_exporter": "python",
   "pygments_lexer": "ipython3",
   "version": "3.8.8"
  }
 },
 "nbformat": 4,
 "nbformat_minor": 4
}
